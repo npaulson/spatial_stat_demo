{
 "cells": [
  {
   "cell_type": "code",
   "execution_count": null,
   "metadata": {
    "collapsed": true
   },
   "outputs": [],
   "source": [
    "import pymks\n",
    "\n",
    "%matplotlib inline\n",
    "%load_ext autoreload\n",
    "%autoreload 2\n",
    "\n",
    "import numpy as np\n",
    "import matplotlib.pyplot as plt"
   ]
  },
  {
   "cell_type": "code",
   "execution_count": null,
   "metadata": {
    "collapsed": false
   },
   "outputs": [],
   "source": [
    "from pymks.datasets import make_checkerboard_microstructure\n",
    "\n",
    "X = make_checkerboard_microstructure(square_size=21, n_squares=8)"
   ]
  },
  {
   "cell_type": "code",
   "execution_count": null,
   "metadata": {
    "collapsed": false
   },
   "outputs": [],
   "source": [
    "import sve_gen as gen\n",
    "import h5py\n",
    "\n",
    "f = h5py.File(\"spatial_stats.hdf5\", 'w')\n",
    "f.close()\n",
    "\n",
    "el = 21\n",
    "ns = 1\n",
    "H = 2\n",
    "set_id = 'bicrystal'\n",
    "log = 'test.txt'\n",
    "\n",
    "X = gen.bicrystal(el, ns, H, set_id, log)"
   ]
  },
  {
   "cell_type": "code",
   "execution_count": null,
   "metadata": {
    "collapsed": false
   },
   "outputs": [],
   "source": [
    "from pymks.tools import draw_microstructures\n",
    "\n",
    "draw_microstructures(X)\n",
    "\n",
    "print X.shape"
   ]
  },
  {
   "cell_type": "code",
   "execution_count": null,
   "metadata": {
    "collapsed": true
   },
   "outputs": [],
   "source": [
    "from pymks.stats import correlate\n",
    "from pymks import PrimitiveBasis\n",
    "\n",
    "p_basis = PrimitiveBasis(n_states=2)\n",
    "X_corr = correlate(X, p_basis, periodic_axes=(0, 1))\n",
    "#X_corr = correlate(X, p_basis)"
   ]
  },
  {
   "cell_type": "code",
   "execution_count": null,
   "metadata": {
    "collapsed": false
   },
   "outputs": [],
   "source": [
    "from pymks.tools import draw_correlations\n",
    "\n",
    "correlations = [('black', 'black'), ('white', 'white'), ('black', 'white')]\n",
    "draw_correlations(X_corr[0].real, correlations=correlations)"
   ]
  },
  {
   "cell_type": "code",
   "execution_count": null,
   "metadata": {
    "collapsed": true
   },
   "outputs": [],
   "source": []
  }
 ],
 "metadata": {
  "kernelspec": {
   "display_name": "Python 2",
   "language": "python",
   "name": "python2"
  },
  "language_info": {
   "codemirror_mode": {
    "name": "ipython",
    "version": 2
   },
   "file_extension": ".py",
   "mimetype": "text/x-python",
   "name": "python",
   "nbconvert_exporter": "python",
   "pygments_lexer": "ipython2",
   "version": "2.7.11"
  }
 },
 "nbformat": 4,
 "nbformat_minor": 0
}
