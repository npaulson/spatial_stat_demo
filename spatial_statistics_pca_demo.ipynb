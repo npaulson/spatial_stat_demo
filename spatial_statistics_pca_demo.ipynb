{
 "cells": [
  {
   "cell_type": "markdown",
   "metadata": {},
   "source": [
    "## Set-Up\n",
    "\n",
    "In this code block we load the necessary python packages"
   ]
  },
  {
   "cell_type": "code",
   "execution_count": null,
   "metadata": {
    "collapsed": false
   },
   "outputs": [],
   "source": [
    "%matplotlib inline\n",
    "%load_ext autoreload\n",
    "%autoreload 2\n",
    "\n",
    "import sve_gen as gen\n",
    "import get_M as gm\n",
    "import correlate as corr\n",
    "import plot_correlation as pltcorr\n",
    "import pca_on_correlations as pcaC\n",
    "import plot_pc_map as pltPC\n",
    "import time\n",
    "import h5py"
   ]
  },
  {
   "cell_type": "markdown",
   "metadata": {},
   "source": [
    "* set_id_cal: list of microstructure classes\n",
    "* ns_cal: number of instantiations to generate for each class\n",
    "* el: side dimension of the microstructures in pixels\n",
    "* H: number of phases in the microstructures"
   ]
  },
  {
   "cell_type": "code",
   "execution_count": null,
   "metadata": {
    "collapsed": true
   },
   "outputs": [],
   "source": [
    "set_id_cal = ['bicrystal', 'gaussian', 'inclusion10', 'inclusion50','inclusion90']\n",
    "ns_cal = [30, 30, 10, 10, 10]\n",
    "\n",
    "# ns_cal = [30, 30, 30]\n",
    "# set_id_cal = ['incl1', 'incl2', 'incl3']\n",
    "\n",
    "el = 21\n",
    "H = 2\n",
    "\n",
    "wrt_file = 'log_%s.txt' % (time.strftime(\"%Y-%m-%d_h%Hm%M\"))"
   ]
  },
  {
   "cell_type": "markdown",
   "metadata": {},
   "source": [
    "## Microstructure Generation\n",
    "\n",
    "Here we generate microstructure instantiations for each class"
   ]
  },
  {
   "cell_type": "code",
   "execution_count": null,
   "metadata": {
    "collapsed": false
   },
   "outputs": [],
   "source": [
    "f = h5py.File(\"spatial_stats.hdf5\", 'w')\n",
    "f.close()\n",
    "\n",
    "gen.bicrystal_orthog(el, ns_cal[0], H, set_id_cal[0], wrt_file)\n",
    "gen.improcess(el, ns_cal[1], H, set_id_cal[1], wrt_file)\n",
    "\n",
    "vfrac = [.1]\n",
    "gen.inclusion_red(el, ns_cal[2], H, set_id_cal[2], wrt_file, vfrac)\n",
    "vfrac = [.5]\n",
    "gen.inclusion_red(el, ns_cal[3], H, set_id_cal[3], wrt_file, vfrac)\n",
    "vfrac = [.9]\n",
    "gen.inclusion_red(el, ns_cal[4], H, set_id_cal[4], wrt_file, vfrac)\n",
    "\n",
    "#gen.delta(el, ns_cal[3], H, set_id_cal[3], wrt_file)\n",
    "#gen.bicrystal(el, ns_cal[4], H, set_id_cal[4], wrt_file)\n",
    "#gen.inclusion(el, ns_cal[5], H, set_id_cal[5], wrt_file, vfrac)\n",
    "\n",
    "# vfrac = [.075, .125]\n",
    "# gen.inclusion_red(el, ns_cal[0], H, set_id_cal[0], wrt_file, vfrac)\n",
    "# vfrac = [.100, .100]\n",
    "# gen.inclusion_red(el, ns_cal[1], H, set_id_cal[1], wrt_file, vfrac)\n",
    "# vfrac = [.125, .075]\n",
    "# gen.inclusion_red(el, ns_cal[2], H, set_id_cal[2], wrt_file, vfrac)"
   ]
  },
  {
   "cell_type": "markdown",
   "metadata": {},
   "source": [
    "## Calculate Microstructure Function\n",
    "\n",
    "Here we find the microstructure function and perform the FFT algorithm on the results"
   ]
  },
  {
   "cell_type": "code",
   "execution_count": null,
   "metadata": {
    "collapsed": false
   },
   "outputs": [],
   "source": [
    "for ii in xrange(len(set_id_cal)):\n",
    "    gm.get_M(el, ns_cal[ii], H, set_id_cal[ii], wrt_file)"
   ]
  },
  {
   "cell_type": "markdown",
   "metadata": {},
   "source": [
    "## Calculate 2-Point Statistics\n",
    "\n",
    "Here we calculate the full set of periodic 2-point spatial statistics for each microstructure instantiation"
   ]
  },
  {
   "cell_type": "code",
   "execution_count": null,
   "metadata": {
    "collapsed": false
   },
   "outputs": [],
   "source": [
    "\"\"\"Compute the periodic statistics for the microstructures\"\"\"\n",
    "for ii in xrange(len(set_id_cal)):\n",
    "    corr.correlate(el, ns_cal[ii], H, set_id_cal[ii], wrt_file)"
   ]
  },
  {
   "cell_type": "markdown",
   "metadata": {},
   "source": [
    "Here we plot a microstructure instantiation and the associated 2-point statistics plot.\n",
    "* set_num: the index associated with the microstructure class of interest\n",
    "* sn: the index of the microstructure instantiation of interest\n",
    "* iA: the index for the correlation of interest"
   ]
  },
  {
   "cell_type": "code",
   "execution_count": null,
   "metadata": {
    "collapsed": false
   },
   "outputs": [],
   "source": [
    "set_num = 1\n",
    "sn = 0\n",
    "iA = 0\n",
    "pltcorr.pltcorr(el, ns_cal[set_num], set_id_cal[set_num], sn, iA)"
   ]
  },
  {
   "cell_type": "markdown",
   "metadata": {},
   "source": [
    "## Perform Principal Component Analysis (PCA)\n",
    "\n",
    "Here we perform dimensionality reduction on the spatial statistics through principal component analysis (PCA). The plot shows the percentage structural information captured by a certain number of pricipal components (PCs)."
   ]
  },
  {
   "cell_type": "code",
   "execution_count": null,
   "metadata": {
    "collapsed": false
   },
   "outputs": [],
   "source": [
    "pcaC.doPCA(el, ns_cal, H, set_id_cal, wrt_file)"
   ]
  },
  {
   "cell_type": "markdown",
   "metadata": {},
   "source": [
    "Here we visualize the microstructure classes and thier associated instantiations in PC space. The spatial centers of each cluster are labeled by class."
   ]
  },
  {
   "cell_type": "code",
   "execution_count": null,
   "metadata": {
    "collapsed": false
   },
   "outputs": [],
   "source": [
    "pcA = 0\n",
    "pcB = 1\n",
    "pltPC.pltmap(ns_cal, set_id_cal, pcA, pcB)"
   ]
  },
  {
   "cell_type": "code",
   "execution_count": null,
   "metadata": {
    "collapsed": true
   },
   "outputs": [],
   "source": []
  }
 ],
 "metadata": {
  "kernelspec": {
   "display_name": "Python 2",
   "language": "python",
   "name": "python2"
  },
  "language_info": {
   "codemirror_mode": {
    "name": "ipython",
    "version": 2
   },
   "file_extension": ".py",
   "mimetype": "text/x-python",
   "name": "python",
   "nbconvert_exporter": "python",
   "pygments_lexer": "ipython2",
   "version": "2.7.11"
  }
 },
 "nbformat": 4,
 "nbformat_minor": 0
}
