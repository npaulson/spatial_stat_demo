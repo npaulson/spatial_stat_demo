{
 "cells": [
  {
   "cell_type": "markdown",
   "metadata": {},
   "source": [
    "## Set-up"
   ]
  },
  {
   "cell_type": "code",
   "execution_count": null,
   "metadata": {
    "collapsed": false
   },
   "outputs": [],
   "source": [
    "%matplotlib inline\n",
    "%load_ext autoreload\n",
    "%autoreload 2\n",
    "\n",
    "import matplotlib.pyplot as plt\n",
    "from scipy.ndimage.filters import convolve\n",
    "from scipy.ndimage.filters import gaussian_filter\n",
    "import numpy as np\n",
    "import time"
   ]
  },
  {
   "cell_type": "code",
   "execution_count": null,
   "metadata": {
    "collapsed": true
   },
   "outputs": [],
   "source": [
    "el = 151  # number of elements per side in the microstructure\n",
    "H = 2  # number of phases in the microstructure\n",
    "vf = .4  # volume fraction of phase 0\n",
    "iA = 0  # phase A of correlation\n",
    "iB = 0  # phase B of correlation"
   ]
  },
  {
   "cell_type": "markdown",
   "metadata": {},
   "source": [
    "## Generate Microstructure"
   ]
  },
  {
   "cell_type": "code",
   "execution_count": null,
   "metadata": {
    "collapsed": false
   },
   "outputs": [],
   "source": [
    "base = np.random.random((el, el))\n",
    "\n",
    "r2a = np.random.randint(2, 20)\n",
    "r2b = np.random.randint(2, 20)\n",
    "weights = np.random.random(size=(r2a, r2b))\n",
    "\n",
    "raw = convolve(base, weights, mode='wrap')\n",
    "\n",
    "blur = gaussian_filter(raw, sigma=1)\n",
    "\n",
    "amin = blur.min()\n",
    "amax = blur.max()\n",
    "scaled = (blur-amin)/(amax-amin)\n",
    "\n",
    "micr = scaled > vf"
   ]
  },
  {
   "cell_type": "code",
   "execution_count": null,
   "metadata": {
    "collapsed": false
   },
   "outputs": [],
   "source": [
    "plt.figure(figsize=[5, 4])\n",
    "ax = plt.imshow(micr, origin='lower',\n",
    "                interpolation='none', cmap='gray')\n",
    "plt.colorbar(ax)\n",
    "plt.title('microstructure')\n",
    "plt.show()"
   ]
  },
  {
   "cell_type": "markdown",
   "metadata": {},
   "source": [
    "## Compute Microstructure-Function"
   ]
  },
  {
   "cell_type": "code",
   "execution_count": null,
   "metadata": {
    "collapsed": false
   },
   "outputs": [],
   "source": [
    "mf = np.zeros((H, el, el))\n",
    "\n",
    "for h in xrange(H):\n",
    "    mf[h, ...] = micr[...] == h\n",
    "    \n",
    "frac = np.sum(mf[0, ...])/np.float32(mf[0, ...].size)\n",
    "    \n",
    "print \"volume fraction phase 0: %s\" % np.round(frac, 2)"
   ]
  },
  {
   "cell_type": "code",
   "execution_count": null,
   "metadata": {
    "collapsed": false
   },
   "outputs": [],
   "source": [
    "plt.figure(figsize=[10, 4])\n",
    "\n",
    "plt.subplot(121)\n",
    "ax = plt.imshow(mf[0, ...], origin='lower',\n",
    "                interpolation='none', cmap='gray')\n",
    "plt.colorbar(ax)\n",
    "plt.title('mf[0, :, :]')\n",
    "plt.subplot(122)\n",
    "ax = plt.imshow(mf[1, ...], origin='lower',\n",
    "                interpolation='none', cmap='gray')\n",
    "plt.colorbar(ax)\n",
    "plt.title('mf[1, :, :]')\n",
    "plt.show()"
   ]
  },
  {
   "cell_type": "markdown",
   "metadata": {},
   "source": [
    "## Calculate 2-pt Spatial Statistics: Naive Approach"
   ]
  },
  {
   "cell_type": "code",
   "execution_count": null,
   "metadata": {
    "collapsed": false
   },
   "outputs": [],
   "source": [
    "st = time.time()\n",
    "\n",
    "ff_v1 = np.zeros((el, el), dtype='float32')\n",
    "\n",
    "S = np.float32(el**2)\n",
    "\n",
    "set1 = np.float32(mf[iA, ...])\n",
    "set2 = np.float32(mf[iB, ...])\n",
    "\n",
    "for ii in xrange(el):\n",
    "    for jj in xrange(el):\n",
    "        tmp = np.roll(set2, shift=ii, axis=0)\n",
    "        tmp = np.roll(tmp, shift=jj, axis=1)\n",
    "        ff_v1[ii, jj] = np.sum(set1*tmp)/S\n",
    "        \n",
    "timeT = np.round(time.time()-st, 5)\n",
    "print \"correlation computed: %s s\" % timeT"
   ]
  },
  {
   "cell_type": "markdown",
   "metadata": {},
   "source": [
    "## Calculate 2-pt Spatial Statistics: FFT Approach"
   ]
  },
  {
   "cell_type": "code",
   "execution_count": null,
   "metadata": {
    "collapsed": false
   },
   "outputs": [],
   "source": [
    "st = time.time()\n",
    "\n",
    "M = np.zeros((H, el, el), dtype='complex128')\n",
    "\n",
    "for h in xrange(H):\n",
    "    M[h, ...] = np.fft.fftn(mf[h, ...], axes=[0, 1])\n",
    "\n",
    "S = el**2\n",
    "\n",
    "M1 = M[iA, ...]\n",
    "mag1 = np.abs(M1)\n",
    "ang1 = np.arctan2(M1.imag, M1.real)\n",
    "exp1 = np.exp(-1j*ang1)\n",
    "term1 = mag1*exp1\n",
    "\n",
    "M2 = M[iB, ...]\n",
    "mag2 = np.abs(M2)\n",
    "ang2 = np.arctan2(M2.imag, M2.real)\n",
    "exp2 = np.exp(1j*ang2)\n",
    "term2 = mag2*exp2\n",
    "\n",
    "FFtmp = term1*term2/S\n",
    "\n",
    "ff_v2 = np.fft.ifftn(FFtmp, [el, el], [0, 1]).real    \n",
    "\n",
    "timeT = np.round(time.time()-st, 5)\n",
    "print \"correlation computed: %s s\" % timeT"
   ]
  },
  {
   "cell_type": "markdown",
   "metadata": {},
   "source": [
    "## Compare Spatial-Statistics"
   ]
  },
  {
   "cell_type": "code",
   "execution_count": null,
   "metadata": {
    "collapsed": false
   },
   "outputs": [],
   "source": [
    "plt.figure(figsize=[11, 4])\n",
    "\n",
    "plt.subplot(121)\n",
    "ff_c = np.fft.fftshift(ff_v1)\n",
    "ax = plt.imshow(ff_c, origin='lower',\n",
    "                interpolation='none', cmap='gray')\n",
    "plt.colorbar(ax)\n",
    "plt.title('Correlation (Naive method): %s and %s' % (iA, iB))\n",
    "\n",
    "plt.subplot(122)\n",
    "ff_c = np.fft.fftshift(ff_v2)\n",
    "ax = plt.imshow(ff_c, origin='lower',\n",
    "                interpolation='none', cmap='gray')\n",
    "plt.colorbar(ax)\n",
    "plt.title('Correlation (FFT method): %s and %s' % (iA, iB))\n",
    "\n",
    "plt.show()"
   ]
  }
 ],
 "metadata": {
  "kernelspec": {
   "display_name": "Python 2",
   "language": "python",
   "name": "python2"
  },
  "language_info": {
   "codemirror_mode": {
    "name": "ipython",
    "version": 2
   },
   "file_extension": ".py",
   "mimetype": "text/x-python",
   "name": "python",
   "nbconvert_exporter": "python",
   "pygments_lexer": "ipython2",
   "version": "2.7.11"
  }
 },
 "nbformat": 4,
 "nbformat_minor": 0
}
